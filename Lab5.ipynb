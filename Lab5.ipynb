{
 "cells": [
  {
   "cell_type": "code",
   "execution_count": 1,
   "metadata": {},
   "outputs": [],
   "source": [
    "## Michal Fishkin\n",
    "## 2018 - 10 - 28\n",
    "## ESC180 Lab - Week 5\n",
    "\n",
    "\n",
    "## conwaylib.py\n",
    "\n",
    "import random\n",
    "\n",
    "class conway:\n",
    "    \n",
    "   def __init__(self, nrow, ncol, settings):\n",
    "      row = []\n",
    "      self.board = []\n",
    "      a = 0\n",
    "      for i in range (0, nrow, 1):\n",
    "         for j in range(0, ncol, 1):\n",
    "            if settings == 'random':\n",
    "               a = random.randint(0, 1)%2\n",
    "            row = row + [a]\n",
    "         self.board = self.board + [row]\n",
    "         row = []\n",
    "\n",
    "\n",
    "   def getDisp(self):\n",
    "      disp = \"\"\n",
    "      \n",
    "      for row in self.board:\n",
    "         for col in range(0, len(row)):\n",
    "            if row[col] == 0:\n",
    "               disp = disp + \" \"\n",
    "            if row[col] == 1:\n",
    "               disp = disp + \"*\"\n",
    "         disp = disp + \"\\n\"\n",
    "\n",
    "      return disp\n",
    "\n",
    "   def printDisp(self):\n",
    "      print(self.getDisp())\n",
    "      return True\n",
    "\n",
    "   def setPos(self, row, col, val):\n",
    "      try:\n",
    "         val = int(val)\n",
    "      except:\n",
    "         print(\"Error: value not a number.\")\n",
    "         return False\n",
    "      \n",
    "      if not (val == 0 or val == 1):\n",
    "         print(\"Error: value not 0 or 1.\")\n",
    "         return False\n",
    "   \n",
    "      self.board[row][col] = val\n",
    "\n",
    "      return True\n",
    "\n",
    "\n",
    "   def getNeighbors(self, row, col):\n",
    "      N = []\n",
    "      for i in range(-1, 2, 1):\n",
    "         for j in range(-1, 2, 1):\n",
    "            if not (i == j and i == 0):\n",
    "               N = N + [  self.board[(row + i) % len(self.board[0])] [(col + j) % len(self.board)]  ]\n",
    "            \n",
    "      return N\n",
    "      "
   ]
  },
  {
   "cell_type": "code",
   "execution_count": 2,
   "metadata": {},
   "outputs": [],
   "source": [
    "c = conway(5, 5, 'random')"
   ]
  },
  {
   "cell_type": "code",
   "execution_count": 3,
   "metadata": {},
   "outputs": [
    {
     "name": "stdout",
     "output_type": "stream",
     "text": [
      "  ** \n",
      "**   \n",
      " *  *\n",
      "**** \n",
      "* ***\n",
      "\n"
     ]
    },
    {
     "data": {
      "text/plain": [
       "True"
      ]
     },
     "execution_count": 3,
     "metadata": {},
     "output_type": "execute_result"
    }
   ],
   "source": [
    "c.printDisp()"
   ]
  },
  {
   "cell_type": "code",
   "execution_count": 4,
   "metadata": {},
   "outputs": [
    {
     "name": "stdout",
     "output_type": "stream",
     "text": [
      "[1, 1, 0, 0, 0, 0, 1, 1]\n"
     ]
    }
   ],
   "source": [
    "print(c.getNeighbors(0,0))"
   ]
  },
  {
   "cell_type": "code",
   "execution_count": 5,
   "metadata": {},
   "outputs": [
    {
     "data": {
      "text/plain": [
       "True"
      ]
     },
     "execution_count": 5,
     "metadata": {},
     "output_type": "execute_result"
    }
   ],
   "source": [
    "c.setPos(4, 4, 1)"
   ]
  },
  {
   "cell_type": "code",
   "execution_count": 6,
   "metadata": {},
   "outputs": [
    {
     "name": "stdout",
     "output_type": "stream",
     "text": [
      "[1, 1, 0, 0, 0, 0, 1, 1]\n"
     ]
    }
   ],
   "source": [
    "print(c.getNeighbors(0,0))"
   ]
  },
  {
   "cell_type": "code",
   "execution_count": null,
   "metadata": {},
   "outputs": [],
   "source": []
  }
 ],
 "metadata": {
  "kernelspec": {
   "display_name": "Python 3",
   "language": "python",
   "name": "python3"
  },
  "language_info": {
   "codemirror_mode": {
    "name": "ipython",
    "version": 3
   },
   "file_extension": ".py",
   "mimetype": "text/x-python",
   "name": "python",
   "nbconvert_exporter": "python",
   "pygments_lexer": "ipython3",
   "version": "3.7.0"
  }
 },
 "nbformat": 4,
 "nbformat_minor": 2
}
